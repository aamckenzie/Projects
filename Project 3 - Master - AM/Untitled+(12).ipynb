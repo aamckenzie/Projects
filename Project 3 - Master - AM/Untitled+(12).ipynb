{
 "cells": [
  {
   "cell_type": "code",
   "execution_count": 192,
   "metadata": {},
   "outputs": [],
   "source": [
    "# Api docs at: https://github.com/pushshift/api\n",
    "\n",
    "# Submission search by subreddit\n",
    "\n",
    "# Subreddits selected: dogs, cats\n",
    "\n",
    "import requests\n",
    "from nltk.tokenize import word_tokenize\n",
    "from nltk.corpus import stopwords\n",
    "from nltk import FreqDist\n",
    "\n",
    "\n",
    "import numpy as np\n",
    "from sklearn.ensemble import RandomForestClassifier\n",
    "from sklearn.model_selection import GridSearchCV\n",
    "from sklearn.model_selection import train_test_split\n",
    "from sklearn.metrics import confusion_matrix\n",
    "from sklearn.metrics import plot_roc_curve\n",
    "\n",
    "stop_words = stopwords.words('english') + [] # Add additional stopwords here"
   ]
  },
  {
   "cell_type": "code",
   "execution_count": 194,
   "metadata": {},
   "outputs": [],
   "source": [
    "def get_document_features(text):\n",
    "    word_freq = FreqDist(post_tokenizer(\" \".join(text)))\n",
    "    doc_features = [word for word,freq in word_freq.most_common(500)]\n",
    "    return doc_features\n",
    "\n",
    "def post_tokenizer(post):\n",
    "    post = word_tokenize(post)\n",
    "    post = [word.lower() for word in post if len(word) > 2 and word not in stop_words]\n",
    "    return post\n",
    "\n",
    "def create_feature_vector(post, doc_features):\n",
    "    feature_vector = [1 if word in post else 0 for word in doc_features]\n",
    "    return np.array(feature_vector)"
   ]
  },
  {
   "cell_type": "code",
   "execution_count": 195,
   "metadata": {},
   "outputs": [],
   "source": [
    "subreddit1 = \"theonion\"\n",
    "subreddit2 = \"nottheonion\"\n",
    "text_field = \"title\" # use selftext for full post text, title for just titles"
   ]
  },
  {
   "cell_type": "code",
   "execution_count": 196,
   "metadata": {},
   "outputs": [],
   "source": [
    "sub1 = {'data': []}\n",
    "sub2 = {'data': []}\n",
    "for t in range(20):\n",
    "    # Requests 20 x 100 sub1\n",
    "    response = requests.get(f\"https://api.pushshift.io/reddit/search/submission/?subreddit={subreddit1}&size=500&before={t*30}d\")\n",
    "    sub1['data'].extend(response.json()['data'])\n",
    "    \n",
    "    # Requests 20 x 100 sub2\n",
    "    response = requests.get(f\"https://api.pushshift.io/reddit/search/submission/?subreddit={subreddit2}&size=500&before={t*30}d\")\n",
    "    sub2['data'].extend(response.json()['data'])"
   ]
  },
  {
   "cell_type": "code",
   "execution_count": 197,
   "metadata": {},
   "outputs": [],
   "source": [
    "sub1_text = list(set([post.get(text_field) for post in sub1['data'] if text_field in post]))\n",
    "sub2_text = list(set([post.get(text_field) for post in sub2['data'] if text_field in post]))\n",
    "\n",
    "text = sub1_text + sub2_text\n",
    "labels = [0] * len(sub1_text) + [1] * len(sub2_text)"
   ]
  },
  {
   "cell_type": "code",
   "execution_count": 198,
   "metadata": {},
   "outputs": [],
   "source": [
    "# Train a model on features\n",
    "X = text\n",
    "y = labels\n",
    "\n",
    "x_train, x_test, y_train, y_test = train_test_split(X,y, random_state=0)\n",
    "\n",
    "doc_features = get_document_features(x_train)\n",
    "\n",
    "x_train = [post_tokenizer(post) for post in x_train]\n",
    "x_test = [post_tokenizer(post) for post in x_test]\n",
    "\n",
    "x_train = [create_feature_vector(post, doc_features) for post in x_train]\n",
    "x_test = [create_feature_vector(post, doc_features) for post in x_test]"
   ]
  },
  {
   "cell_type": "code",
   "execution_count": 200,
   "metadata": {},
   "outputs": [
    {
     "name": "stdout",
     "output_type": "stream",
     "text": [
      "Fitting 5 folds for each of 2 candidates, totalling 10 fits\n",
      "[CV] max_features=sqrt ...............................................\n"
     ]
    },
    {
     "name": "stderr",
     "output_type": "stream",
     "text": [
      "[Parallel(n_jobs=1)]: Using backend SequentialBackend with 1 concurrent workers.\n"
     ]
    },
    {
     "name": "stdout",
     "output_type": "stream",
     "text": [
      "[CV] ................................ max_features=sqrt, total=   3.9s\n",
      "[CV] max_features=sqrt ...............................................\n"
     ]
    },
    {
     "name": "stderr",
     "output_type": "stream",
     "text": [
      "[Parallel(n_jobs=1)]: Done   1 out of   1 | elapsed:    3.8s remaining:    0.0s\n"
     ]
    },
    {
     "name": "stdout",
     "output_type": "stream",
     "text": [
      "[CV] ................................ max_features=sqrt, total=   3.7s\n",
      "[CV] max_features=sqrt ...............................................\n",
      "[CV] ................................ max_features=sqrt, total=   3.8s\n",
      "[CV] max_features=sqrt ...............................................\n",
      "[CV] ................................ max_features=sqrt, total=   3.7s\n",
      "[CV] max_features=sqrt ...............................................\n",
      "[CV] ................................ max_features=sqrt, total=   3.9s\n",
      "[CV] max_features=0.5 ................................................\n",
      "[CV] ................................. max_features=0.5, total=  30.3s\n",
      "[CV] max_features=0.5 ................................................\n",
      "[CV] ................................. max_features=0.5, total=  30.7s\n",
      "[CV] max_features=0.5 ................................................\n",
      "[CV] ................................. max_features=0.5, total=  35.8s\n",
      "[CV] max_features=0.5 ................................................\n",
      "[CV] ................................. max_features=0.5, total=  31.0s\n",
      "[CV] max_features=0.5 ................................................\n",
      "[CV] ................................. max_features=0.5, total=  29.2s\n"
     ]
    },
    {
     "name": "stderr",
     "output_type": "stream",
     "text": [
      "[Parallel(n_jobs=1)]: Done  10 out of  10 | elapsed:  2.9min finished\n"
     ]
    },
    {
     "data": {
      "text/plain": [
       "0.7884405670665212"
      ]
     },
     "execution_count": 200,
     "metadata": {},
     "output_type": "execute_result"
    }
   ],
   "source": [
    "# Grid Search on RandomForestClassifier\n",
    "params = {\n",
    "    'max_features' : [\"sqrt\", 0.5],\n",
    "}\n",
    "\n",
    "estimator = RandomForestClassifier()\n",
    "\n",
    "grid = GridSearchCV(estimator, params, verbose=2).fit(x_train, y_train)\n",
    "grid.score(x_test, y_test)\n"
   ]
  },
  {
   "cell_type": "code",
   "execution_count": 203,
   "metadata": {},
   "outputs": [
    {
     "data": {
      "text/plain": [
       "{'max_features': 'sqrt'}"
      ]
     },
     "execution_count": 203,
     "metadata": {},
     "output_type": "execute_result"
    }
   ],
   "source": [
    "grid.best_params_"
   ]
  },
  {
   "cell_type": "code",
   "execution_count": null,
   "metadata": {},
   "outputs": [],
   "source": [
    "rfc = RandomForestClassifier(random_state=0).fit(x_train, y_train)\n",
    "rfc.score(x_test, y_test)"
   ]
  },
  {
   "cell_type": "code",
   "execution_count": 204,
   "metadata": {},
   "outputs": [
    {
     "data": {
      "text/plain": [
       "0.7622682660850599"
      ]
     },
     "execution_count": 204,
     "metadata": {},
     "output_type": "execute_result"
    }
   ],
   "source": [
    "# Logistic Regression\n",
    "\n",
    "from sklearn.linear_model import LogisticRegressionCV\n",
    "\n",
    "lrc = LogisticRegressionCV(Cs=[.001,.009,.01,.02], max_iter=1000).fit(x_train, y_train)\n",
    "lrc.score(x_test, y_test)"
   ]
  },
  {
   "cell_type": "code",
   "execution_count": 205,
   "metadata": {},
   "outputs": [
    {
     "data": {
      "text/plain": [
       "array([[312, 177],\n",
       "       [ 41, 387]], dtype=int64)"
      ]
     },
     "execution_count": 205,
     "metadata": {},
     "output_type": "execute_result"
    }
   ],
   "source": [
    "cm = confusion_matrix(y_test, lrc.predict(x_test))\n",
    "cm"
   ]
  },
  {
   "cell_type": "code",
   "execution_count": 206,
   "metadata": {},
   "outputs": [
    {
     "data": {
      "text/plain": [
       "<sklearn.metrics._plot.roc_curve.RocCurveDisplay at 0x27829700>"
      ]
     },
     "execution_count": 206,
     "metadata": {},
     "output_type": "execute_result"
    },
    {
     "data": {
      "image/png": "[encoded data removed]",
      "text/plain": [
       "<Figure size 432x288 with 1 Axes>"
      ]
     },
     "metadata": {
      "needs_background": "light"
     },
     "output_type": "display_data"
    }
   ],
   "source": [
    "plot_roc_curve(lrc, x_test, y_test)"
   ]
  },
  {
   "cell_type": "code",
   "execution_count": 171,
   "metadata": {},
   "outputs": [
    {
     "data": {
      "text/plain": [
       "array([0])"
      ]
     },
     "execution_count": 171,
     "metadata": {},
     "output_type": "execute_result"
    }
   ],
   "source": [
    "rfc.predict(create_feature_vector(post_tokenizer(\"Teacher Wonders If Outer Space Or Ocean Better Theme For Bulletin Board Listing Coronavirus Rules\")).reshape(1,-1))"
   ]
  },
  {
   "cell_type": "code",
   "execution_count": null,
   "metadata": {},
   "outputs": [],
   "source": []
  }
 ],
 "metadata": {
  "kernelspec": {
   "display_name": "Python 3",
   "language": "python",
   "name": "python3"
  },
  "language_info": {
   "codemirror_mode": {
    "name": "ipython",
    "version": 3
   },
   "file_extension": ".py",
   "mimetype": "text/x-python",
   "name": "python",
   "nbconvert_exporter": "python",
   "pygments_lexer": "ipython3",
   "version": "3.8.3"
  }
 },
 "nbformat": 4,
 "nbformat_minor": 4
}
