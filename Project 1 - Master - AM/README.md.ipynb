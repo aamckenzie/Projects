{
 "cells": [
  {
   "cell_type": "markdown",
   "metadata": {},
   "source": [
    "# Project 1: SAT & ACT Participation Rate / Score Analysis \n",
    "\n",
    "### Adam McKenzie, General Assembly DSI-12\n",
    "### June 27th, 2020\n",
    "\n",
    "\n",
    "\n",
    "### Problem Statement\n",
    "\n",
    "\n",
    "As a member of the College Board team tracking statewide participation, we will be looking at gathered SAT and ACT data regarding state scores and participation rates accross the United States and seeking to identify how best to adress the factors that we find are influencing them. We will take a particularly close look at the state of Oklahoma which in 2017 had participation rates of 7% with an average total score of only 1047, and saw little improvement in 2018's numbers.\n",
    "\n",
    "---\n",
    "\n",
    "### Executive Summary\n",
    "\n",
    "The purpose of this project was to take the provided SAT and ACT data sets from the years of 2017 and 2018, and through the process of exploratory data analysis, clean, organize, and plot the data through Python Pandas to gain valuable insights and a better understanding of how to address the issue of less than ideal SAT participation and performance rates SAT across the country, with a specific focus on Oklahoma. \n",
    "\n",
    "Data is displayed using Python's visualization libraries, including Heatmaps, Histograms, Box Plots, and Scatter Plots. Through the use of these visualizations, in combination with outside research, we are able to identify opportunities for College Board to improve average SAT participation rates and total scores in Oklahoma, as well as other struggling states across the us.\n",
    "\n"
   ]
  },
  {
   "cell_type": "markdown",
   "metadata": {},
   "source": [
    "#### Data Dictionary"
   ]
  },
  {
   "cell_type": "markdown",
   "metadata": {},
   "source": [
    "|Feature|Type|Dataset|Description|\n",
    "|---|---|---|---|\n",
    "|state|object|act/sat|The state to which the record belongs|\n",
    "|act_participation_2017|float|ACT 2017|Percentage of test takers in the state that took ACT during 2017|\n",
    "|act_english_score_2017|float|ACT 2017|Mean score for ACT English tests taken in state during 2017|\n",
    "|act_math_score_2017|float|ACT 2017|Mean score for ACT Math tests taken in state during 2017|\n",
    "|act_reading_score_2017|float|ACT 2017|Mean score for ACT Reading tests taken in state during 2017|\n",
    "|act_science_score_2017|float|ACT 2017|Mean score for ACT Science tests taken in state during 2017|\n",
    "|act_composite_score_2017|float|ACT 2017|Mean composite score for ACT sub tests taken in state during 2017|\n",
    "|sat_participation_2017|float|SAT 2017|Percentage of test takers in the state that took SAT during 2017|\n",
    "|sat_reading_score_2017|integer|SAT 2017|Mean score for SAT Evidence-Based Reading & Writing tests taken in state during 2017|\n",
    "|sat_math_score_2017|integer|SAT 2017|Mean score for SAT Math tests taken in state during 2017|\n",
    "|sat_total_score_2017|integer|SAT 2017|Mean composite score for SAT ERW and Math tests taken in state during 2017|\n",
    "|act_participation_2018|float|ACT 2018|Percentage of test takers in the state that took ACT during 2018|\n",
    "|act_english_score_2018|float|ACT 2018|Mean score for ACT English tests taken in state during 2018|\n",
    "|act_math_score_2018|float|ACT 2018|Mean score for ACT Math tests taken in state during 2018|\n",
    "|act_reading_score_2018|float|ACT 2018|Mean score for ACT Reading tests taken in state during 2018|\n",
    "|act_science_score_2018|float|ACT 2018|Mean score for ACT Science tests taken in state during 2018|\n",
    "|act_composite_score_2018|float|ACT 2018|Mean composite score for ACT sub tests taken in state during 2018|\n",
    "|sat_participation_2018|float|SAT 2018|Percentage of test takers in the state that took SAT during 2018|\n",
    "|sat_reading_score_2018|integer|SAT 2018|Mean score for SAT Evidence-Based Reading & Writing tests taken in state during 2018|\n",
    "|sat_math_score_2018|integer|SAT 2018|Mean score for SAT Math tests taken in state during 2018|\n",
    "|sat_total_score_2018|integer|SAT 2018|Mean composite score for SAT ERW and Math tests taken in state during 2018|\n",
    "\n"
   ]
  },
  {
   "cell_type": "markdown",
   "metadata": {},
   "source": [
    "### Conclusions & Recommendations\n",
    "One of the primary factors hurting SAT participation rates and scores in Oklahoma is the fact that sepcific school districts choose what test to administer. There is no statewide mandate to spend class time specifically prepping for the SAT.\n",
    "\n",
    "There are various strategies that other states have deployed to increase participation rates that Oklahoma should consider introducing. These include:\n",
    "- Waiving of the $50 test fee as well as those involved with seeing scorereports. This improves college access for low-income students.\n",
    "- Encouraging students to take the test multiple times.\n",
    "- Allowing same day registration.\n",
    "- Offering the test year round as well as having it take place on a school day, as opposed to the usual Saturday, increases access for lower income students \n",
    "- Setting up a test prep class as part of the high school curriculum (ideally starting in 9th grade). It has been shown that earlier exposure to college prepardness greatly improves student achievement.\n",
    "\n",
    "Additionally, states that see large increases in SAT participation rates (especially due to shifting to mandatory testing) often experience a dip in their average scores. This is likely due to selection bias, as there is a sudden inclusion of students who may have only taken the ACT as well as those who were not planning on attending college at all, however additional data on student preparedness is required to be sure. It is important to note, though, that while state averages may initially drop with increased participation, individual student performance increases.\n",
    "\n",
    "\n",
    "---\n",
    "\n",
    "### Other Data Sources:\n",
    "\n",
    "2018 and 2019 state-by-state SAT average results and participation rates: (https://reports.collegeboard.org/sat-suite-program-results/state-results). \n",
    "\n",
    "2018 and 2019 ACT state-by-state mean composite scores and participation rates: (http://www.act.org/content/dam/act/unsecured/documents/cccr2018/Average-Scores-by-State.pdf)\n",
    "(https://www.act.org/content/dam/act/secured/documents/cccr-2019/Average-Scores-by-State.pdf)\n",
    "\n",
    "Collegeboard 2017 \"Delivering Opportunities\" Report:\n",
    "(https://research.collegeboard.org/programs/sat/delivering-opportunities)\n",
    "\n",
    "(https://blog.prepscholar.com/average-sat-and-act-scores-by-stated-adjusted-for-participation-rate)\n",
    "\n",
    "\n",
    "\n"
   ]
  },
  {
   "cell_type": "code",
   "execution_count": null,
   "metadata": {},
   "outputs": [],
   "source": []
  }
 ],
 "metadata": {
  "kernelspec": {
   "display_name": "Python 3",
   "language": "python",
   "name": "python3"
  },
  "language_info": {
   "codemirror_mode": {
    "name": "ipython",
    "version": 3
   },
   "file_extension": ".py",
   "mimetype": "text/x-python",
   "name": "python",
   "nbconvert_exporter": "python",
   "pygments_lexer": "ipython3",
   "version": "3.8.3"
  }
 },
 "nbformat": 4,
 "nbformat_minor": 4
}
